{
 "cells": [
  {
   "cell_type": "markdown",
   "id": "revised-invention",
   "metadata": {},
   "source": [
    "# <center>Практическое задание к уроку 4.  \n",
    "## Часть 1."
   ]
  },
  {
   "cell_type": "code",
   "execution_count": 1,
   "id": "recovered-society",
   "metadata": {},
   "outputs": [],
   "source": [
    "import numpy as np\n",
    "import numpy.linalg\n",
    "import scipy.linalg"
   ]
  },
  {
   "cell_type": "markdown",
   "id": "genuine-robinson",
   "metadata": {},
   "source": [
    "__1.__ Решить систему уравнений методом Гаусса:\n",
    "\n",
    "$\\begin{cases}\n",
    "x_{1}+x_{2}-x_{3}-2x_{4}=0 \\\\\n",
    "2x_{1}+x_{2}-x_{3}+x_{4}=-2 \\\\\n",
    "x_{1}+x_{2}-3x_{3}+x_{4}=4\n",
    "\\end{cases}$.  "
   ]
  },
  {
   "cell_type": "markdown",
   "id": "egyptian-twenty",
   "metadata": {},
   "source": [
    "Система имеее количество уравнений меньшее, чем количество неизвестных, $\\Rightarrow$ система является *недоопределённой*.  \n",
    "\n",
    "Запишем расширенную матрицу системы:  \n",
    "\n",
    "$\\begin{pmatrix}\n",
    "\\left.\\begin{matrix}\n",
    "1 & 1 & -1 & -2\\\\ \n",
    "2 & 1 & -1 & 1 \\\\ \n",
    "1 & 1 & -3 & 1\n",
    "\\end{matrix}\\right|\n",
    "\\begin{matrix}\n",
    "0\\\\ \n",
    "-2\\\\\n",
    "4\n",
    "\\end{matrix}\n",
    "\\end{pmatrix}$.  \n",
    "\n",
    "Вычтем из третьей строки первую:  \n",
    "\n",
    "$\\begin{pmatrix}\n",
    "\\left.\\begin{matrix}\n",
    "1 & 1 & -1 & -2\\\\ \n",
    "2 & 1 & -1 & 1 \\\\ \n",
    "0 & 0 & -2 & 3\n",
    "\\end{matrix}\\right|\n",
    "\\begin{matrix}\n",
    "0\\\\ \n",
    "-2\\\\\n",
    "4\n",
    "\\end{matrix}\n",
    "\\end{pmatrix}$  \n",
    "\n",
    "Вычтем из второй строки удвоенную первую:  \n",
    "\n",
    "$\\begin{pmatrix}\n",
    "\\left.\\begin{matrix}\n",
    "1 & 1 & -1 & -2\\\\ \n",
    "0 & -1 & 1 & 5 \\\\ \n",
    "0 & 0 & -2 & 3\n",
    "\\end{matrix}\\right|\n",
    "\\begin{matrix}\n",
    "0\\\\ \n",
    "-2\\\\\n",
    "4\n",
    "\\end{matrix}\n",
    "\\end{pmatrix}$  \n",
    "\n",
    "Прибавим вторую строку к первой:  \n",
    "\n",
    "$\\begin{pmatrix}\n",
    "\\left.\\begin{matrix}\n",
    "1 & 0 & 0 & 3\\\\ \n",
    "0 & -1 & 1 & 5 \\\\ \n",
    "0 & 0 & -2 & 3\n",
    "\\end{matrix}\\right|\n",
    "\\begin{matrix}\n",
    "-2\\\\ \n",
    "-2\\\\\n",
    "4\n",
    "\\end{matrix}\n",
    "\\end{pmatrix}$ \n",
    "\n",
    "Ранг матрицы системы уравнений  и ранг расширенной матрицы равны, $rank A=rank\\tilde A=3 \\Rightarrow$ система имеет множество решений.  \n",
    "\n",
    "Пусть $x_4=c$, тогда:  \n",
    "\n",
    "$-2x_{3}+3c=4\\\\x_3=-\\frac{4-3c}{2}\\\\x_{3}=-2-\\frac{3}{2}c\\\\-x_{2}+x_{3}+5c=-2\\\\x_2=2+5c-2-\\frac{3}{2}c\\\\x_2=\\frac{7}{2}c\\\\ x_{1}+3c=-2\\\\x_1=-2-3c$  \n",
    "\n",
    "Общее решение системы:  \n",
    "\n",
    "$x_1=-2-3c\\\\x_2=\\frac{7}{2}c\\\\x_{3}=-2-\\frac{3}{2}c\\\\x_4=c$  \n",
    "\n",
    "Найдем частное решение при $c=0$, тогда  \n",
    "\n",
    "$x_1=-2\\\\x_2=0\\\\x_3=-2\\\\x_4=0$  \n",
    "\n",
    "Подставим в систему:  \n",
    "\n",
    "$\\begin{cases}\n",
    "-2+0+2-2\\cdot 0=0 \\\\\n",
    "2\\cdot -2+0+2+0=-2 \\\\\n",
    "-2+0-3\\cdot -2+0=4\n",
    "\\end{cases}$,  \n",
    "верно."
   ]
  },
  {
   "cell_type": "markdown",
   "id": "confused-correspondence",
   "metadata": {},
   "source": [
    "__2.__ Проверить на совместность и выяснить, сколько решений будет иметь система линейных уравнений:\n",
    "\n",
    "   а) $\\begin{cases}\n",
    "3x_{1}-x_{2}+x_{3}=4, \\\\\n",
    "2x_{1}-5x_{2}-3x_{3}=-17 \\\\\n",
    "x_{1}+x_{2}-x_{3}=0\n",
    "\\end{cases}$;\n",
    "    \n",
    "   б) $\\begin{cases}\n",
    "2x_{1}-4x_{2}+6x_{3}=1 \\\\\n",
    "x_{1}-2x_{2}+3x_{3}=-2 \\\\\n",
    "3x_{1}-6x_{2}+9x_{3}=5\n",
    "\\end{cases}$;\n",
    "    \n",
    "   в) $\\begin{cases}\n",
    "x_{1}+2x_{2}+5x_{3}=4 \\\\\n",
    "3x_{1}+x_{2}-8x_{3}=-2 \n",
    "\\end{cases}$."
   ]
  },
  {
   "cell_type": "markdown",
   "id": "optical-monitoring",
   "metadata": {},
   "source": [
    "---\n",
    "а) Составим расширенную матрицу системы:  \n",
    "\n",
    "$\\begin{pmatrix}\n",
    "\\left.\\begin{matrix}\n",
    "3 & -1 & 1\\\\ \n",
    "2 & -5 & -3\\\\ \n",
    "1 & 1 & -1\n",
    "\\end{matrix}\\right|\n",
    "\\begin{matrix}\n",
    "4\\\\ \n",
    "-17\\\\\n",
    "0\n",
    "\\end{matrix}\n",
    "\\end{pmatrix}$  \n",
    "\n",
    "и сравним ранги матрицы системы и расширенной матрицы:  "
   ]
  },
  {
   "cell_type": "code",
   "execution_count": 2,
   "id": "qualified-background",
   "metadata": {},
   "outputs": [
    {
     "name": "stdout",
     "output_type": "stream",
     "text": [
      "Ранг матрицы системы уравнений: rankA=3,\n",
      "ранг расширенной матрицы: rankB=3\n"
     ]
    }
   ],
   "source": [
    "A=np.array([[3,-1,1],[2,-5,-3],[1,1,-1]])\n",
    "B=np.array([[3,-1,1,4],[2,-5,-3,-17],[1,1,-1,0]])\n",
    "print(f'Ранг матрицы системы уравнений: rankA={np.linalg.matrix_rank(A)},\\n'\n",
    "      f'ранг расширенной матрицы: rankB={np.linalg.matrix_rank(B)}')"
   ]
  },
  {
   "cell_type": "markdown",
   "id": "behind-marshall",
   "metadata": {},
   "source": [
    "Поскольку $rankA=rank \\tilde A=n$, где $n$ — число неизвестных, $\\Rightarrow$ система **совместна и определена** и имеет **единственное** решение.  \n",
    "\n",
    "---"
   ]
  },
  {
   "cell_type": "markdown",
   "id": "legendary-theory",
   "metadata": {},
   "source": [
    "б) Составим расширенную матрицу системы:  \n",
    "\n",
    "$\\begin{pmatrix}\n",
    "\\left.\\begin{matrix}\n",
    "2 & -4 & 6\\\\ \n",
    "1 & -2 & 3\\\\ \n",
    "3 & -6 & 9\n",
    "\\end{matrix}\\right|\n",
    "\\begin{matrix}\n",
    "1\\\\ \n",
    "-2\\\\\n",
    "5\n",
    "\\end{matrix}\n",
    "\\end{pmatrix}$  \n",
    "\n",
    "Сразу заметно, что векторы матрицы системы $\\bar{x_1}=(2,-4,6), \\bar{x_2}=(1,-2,3),\\text{ и }\\bar{x_3}=(3,-6,9)$ линейно зависимы,  \n",
    "\n",
    "а вектор коэфициентов $\\bar{b}=\\begin{pmatrix}1\\\\-2\\\\5\\end{pmatrix}$ **не принадлежит** линейному подпространству образованному ими,  \n",
    "\n",
    "$\\Rightarrow$  можем сделать вывод, что система **несовместна** и **не имеет** решений.\n",
    "\n",
    "Для подтверждени сравним ранги матрицы системы и расширенной матрицы: "
   ]
  },
  {
   "cell_type": "code",
   "execution_count": 3,
   "id": "thorough-entry",
   "metadata": {},
   "outputs": [
    {
     "name": "stdout",
     "output_type": "stream",
     "text": [
      "Ранг матрицы системы уравнений: rankA=1,\n",
      "ранг расширенной матрицы: rankB=2\n"
     ]
    }
   ],
   "source": [
    "A=np.array([[2,-4,6],[1,-2,3],[3,-6,9]])\n",
    "B=np.array([[2,-4,6,1],[1,-2,3,-2],[3,-6,9,5]])\n",
    "print(f'Ранг матрицы системы уравнений: rankA={np.linalg.matrix_rank(A)},\\n'\n",
    "      f'ранг расширенной матрицы: rankB={np.linalg.matrix_rank(B)}')"
   ]
  },
  {
   "cell_type": "markdown",
   "id": "protected-america",
   "metadata": {},
   "source": [
    "Действительно, $rankA<rank\\tilde A\\Rightarrow$ система **несовместна** и **не имеет** решений.  \n",
    "\n",
    "---"
   ]
  },
  {
   "cell_type": "markdown",
   "id": "illegal-necessity",
   "metadata": {},
   "source": [
    "в) Составим расширенную матрицу системы:  \n",
    "\n",
    "$\\begin{pmatrix}\n",
    "\\left.\\begin{matrix}\n",
    "1 & 2 & 5\\\\ \n",
    "3 & 1 & -8\n",
    "\\end{matrix}\\right|\n",
    "\\begin{matrix}\n",
    "4\\\\ \n",
    "-2\n",
    "\\end{matrix}\n",
    "\\end{pmatrix}$  \n",
    "\n",
    "Поскольку количество уравнений меньше количества неизвестных, сразу можем сделать выводб что система **недоопределена**, а значит, в зависимости от критерия совместности может либо не иметь решений, либо имеет множество решений.  \n",
    "\n",
    "Сравним ранги матрицы системы и расширенной матрицы:"
   ]
  },
  {
   "cell_type": "code",
   "execution_count": 4,
   "id": "understood-jason",
   "metadata": {},
   "outputs": [
    {
     "name": "stdout",
     "output_type": "stream",
     "text": [
      "Ранг матрицы системы уравнений: rankA=2,\n",
      "ранг расширенной матрицы: rankB=2\n"
     ]
    }
   ],
   "source": [
    "A=np.array([[1,2,5],[3,1,-8]])\n",
    "B=np.array([[1,2,5,4],[3,1,-8,-2]])\n",
    "print(f'Ранг матрицы системы уравнений: rankA={np.linalg.matrix_rank(A)},\\n'\n",
    "      f'ранг расширенной матрицы: rankB={np.linalg.matrix_rank(B)}')"
   ]
  },
  {
   "cell_type": "markdown",
   "id": "athletic-dining",
   "metadata": {},
   "source": [
    "Поскольку $rankA=rank \\tilde A<n$, , где $n$ — число неизвестных, то система **совместна, но неопределена**, и имеет **множество** решений."
   ]
  },
  {
   "cell_type": "markdown",
   "id": "eligible-piano",
   "metadata": {},
   "source": [
    "__3.__ Проверить на совместность и выяснить, сколько решений будет иметь система линейных уравнений, заданная расширенной матрицей\n",
    "\n",
    "$\\tilde{A}=\\begin{pmatrix}\n",
    "\\left.\\begin{matrix}\n",
    "1 & 3 & -2 & 4\\\\ \n",
    "0 & 5 & 0 & 1\\\\ \n",
    "0 & 0 & 3 & 0\\\\ \n",
    "0 & 0 & 0 & 2\n",
    "\\end{matrix}\\right|\n",
    "\\begin{matrix}\n",
    "3\\\\ \n",
    "2\\\\\n",
    "4\\\\\n",
    "1\n",
    "\\end{matrix}\n",
    "\\end{pmatrix}$."
   ]
  },
  {
   "cell_type": "markdown",
   "id": "played-butler",
   "metadata": {},
   "source": [
    "Сравним ранги матрицы системы и расширенной матрицы:"
   ]
  },
  {
   "cell_type": "code",
   "execution_count": 5,
   "id": "royal-ancient",
   "metadata": {},
   "outputs": [
    {
     "name": "stdout",
     "output_type": "stream",
     "text": [
      "Ранг матрицы системы уравнений: rankA=4,\n",
      "ранг расширенной матрицы: rankB=4\n"
     ]
    }
   ],
   "source": [
    "A=np.array([[1,3,-2,4],[0,5,0,1],[0,0,3,0],[0,0,0,2]])\n",
    "B=np.array([[1,3,-2,4,3],[0,5,0,1,2],[0,0,3,0,4],[0,0,0,2,1]])\n",
    "print(f'Ранг матрицы системы уравнений: rankA={np.linalg.matrix_rank(A)},\\n'\n",
    "      f'ранг расширенной матрицы: rankB={np.linalg.matrix_rank(B)}')"
   ]
  },
  {
   "cell_type": "markdown",
   "id": "premium-military",
   "metadata": {},
   "source": [
    "Поскольку $rankA=rank \\tilde A=n$, где $n$ — число неизвестных, $\\Rightarrow$ система **совместна и определена** и имеет **единственное** решение."
   ]
  },
  {
   "cell_type": "markdown",
   "id": "formal-gather",
   "metadata": {},
   "source": [
    "__4.__ Дана система линейных уравнений, заданная расширенной матрицей\n",
    "\n",
    "$\\tilde{A}=\\begin{pmatrix}\n",
    "\\left.\\begin{matrix}\n",
    "1 & 2 & 3\\\\ \n",
    "4 & 5 & 6\\\\ \n",
    "7 & 8 & 9\n",
    "\\end{matrix}\\right|\n",
    "\\begin{matrix}\n",
    "a\\\\ \n",
    "b\\\\\n",
    "c\n",
    "\\end{matrix}\n",
    "\\end{pmatrix}$.\n",
    "\n",
    "Найти соотношение между параметрами $a$, $b$ и $c$, при которых система является несовместной."
   ]
  },
  {
   "cell_type": "markdown",
   "id": "geological-desktop",
   "metadata": {},
   "source": [
    "Система будет несовместной если $rankA<rank\\tilde A$  \n",
    "\n",
    "Преобразуем $\\tilde A$  \n",
    "\n",
    "$\\begin{pmatrix}\n",
    "\\left.\\begin{matrix}\n",
    "1 & 2 & 3\\\\ \n",
    "4 & 5 & 6\\\\ \n",
    "7 & 8 & 9\n",
    "\\end{matrix}\\right|\n",
    "\\begin{matrix}\n",
    "a\\\\ \n",
    "b\\\\\n",
    "c\n",
    "\\end{matrix}\n",
    "\\end{pmatrix}$\n",
    "\n",
    "Вычтем из второй строки удвоенную первую:  \n",
    "\n",
    "$\\begin{pmatrix}\n",
    "\\left.\\begin{matrix}\n",
    "1 & 2 & 3\\\\ \n",
    "2 & 1 & 0\\\\ \n",
    "7 & 8 & 9\n",
    "\\end{matrix}\\right|\n",
    "\\begin{matrix}\n",
    "a\\\\ \n",
    "b-2a\\\\\n",
    "c\n",
    "\\end{matrix}\n",
    "\\end{pmatrix}$  \n",
    "\n",
    "Вычтем из третьей строки утроенную первую:  \n",
    "\n",
    "$\\begin{pmatrix}\n",
    "\\left.\\begin{matrix}\n",
    "1 & 2 & 3\\\\ \n",
    "2 & 1 & 0\\\\ \n",
    "4 & 2 & 0\n",
    "\\end{matrix}\\right|\n",
    "\\begin{matrix}\n",
    "a\\\\ \n",
    "b-2a\\\\\n",
    "c-3a\n",
    "\\end{matrix}\n",
    "\\end{pmatrix}$  \n",
    "\n",
    "Вычтем из третьей строки удвоенную вторую:  \n",
    "\n",
    "$\\begin{pmatrix}\n",
    "\\left.\\begin{matrix}\n",
    "1 & 2 & 3\\\\ \n",
    "2 & 1 & 0\\\\ \n",
    "0 & 0 & 0\n",
    "\\end{matrix}\\right|\n",
    "\\begin{matrix}\n",
    "a\\\\ \n",
    "b-2a\\\\\n",
    "c-3a-2(b-2a)\n",
    "\\end{matrix}\n",
    "\\end{pmatrix}=\\begin{pmatrix}\n",
    "\\left.\\begin{matrix}\n",
    "1 & 2 & 3\\\\ \n",
    "2 & 1 & 0\\\\ \n",
    "0 & 0 & 0\n",
    "\\end{matrix}\\right|\n",
    "\\begin{matrix}\n",
    "a\\\\ \n",
    "b-2a\\\\\n",
    "c+a-2b\n",
    "\\end{matrix}\n",
    "\\end{pmatrix}$  \n",
    "\n",
    "Поскольку $rankA=2$, то для выполнения условия **несовместности** необходимоб чтобы $rank \\tilde A>2$, а это возможно при условии что  \n",
    "\n",
    "$c+a-2b\\neq0$"
   ]
  },
  {
   "cell_type": "markdown",
   "id": "paperback-sequence",
   "metadata": {},
   "source": [
    "## Часть 2."
   ]
  },
  {
   "cell_type": "markdown",
   "id": "regulation-macro",
   "metadata": {},
   "source": [
    "__1.__ Решить систему уравнений методом Крамера:\n",
    "\n",
    "   а) $\\begin{cases}\n",
    "x_{1}-2x_{2}=1 \\\\\n",
    "3x_{1}-4x_{2}=7\n",
    "\\end{cases}$;\n",
    "    \n",
    "   б) $\\begin{cases}\n",
    "2x_{1}-x_{2}+5x_{3}=10 \\\\\n",
    "x_{1}+x_{2}-3x_{3}=-2 \\\\\n",
    "2x_{1}+4x_{2}+x_{3}=1\n",
    "\\end{cases}$."
   ]
  },
  {
   "cell_type": "markdown",
   "id": "endless-hammer",
   "metadata": {},
   "source": [
    "---  \n",
    "а)  \n",
    "\n",
    "$\\begin{cases}\n",
    "x_{1}-2x_{2}=1 \\\\\n",
    "3x_{1}-4x_{2}=7\n",
    "\\end{cases}$  \n",
    "\n",
    "Найдем определитель матрицы коэффициентов:  \n",
    "\n",
    "$A=\\begin{pmatrix}1 & -2\\\\\n",
    "3 & -4\\end{pmatrix}\\\\\n",
    "detA=\\begin{vmatrix}1 & -2\\\\\n",
    "3 & -4\\end{vmatrix}=1\\cdot -4-(-2)\\cdot 3=2\\neq 0\\\\\n",
    "\\Rightarrow\\text{ Система определена}\\\\\n",
    "detA_1=\\begin{vmatrix}1 & -2\\\\\n",
    "7 & -4\\end{vmatrix}=-4+14=10\\\\\n",
    "detA_2=\\begin{vmatrix}1 & 1\\\\\n",
    "3 & 7\\end{vmatrix}=7-3=4\\\\\n",
    "x_1=\\frac{detA_1}{detA}=\\frac{10}{2}=5\\\\\n",
    "x_2=\\frac{detA_2}{detA}=\\frac{4}{2}=2$  \n",
    "\n",
    "---"
   ]
  },
  {
   "cell_type": "markdown",
   "id": "signed-qatar",
   "metadata": {},
   "source": [
    "б) $\\begin{cases}\n",
    "2x_{1}-x_{2}+5x_{3}=10 \\\\\n",
    "x_{1}+x_{2}-3x_{3}=-2 \\\\\n",
    "2x_{1}+4x_{2}+x_{3}=1\n",
    "\\end{cases}$  \n",
    "\n",
    "Решим с помошью методов numpy:  "
   ]
  },
  {
   "cell_type": "code",
   "execution_count": 6,
   "id": "rational-shopping",
   "metadata": {},
   "outputs": [
    {
     "name": "stdout",
     "output_type": "stream",
     "text": [
      "Определитель матрицы коэффициентов detA =43\n"
     ]
    }
   ],
   "source": [
    "A=np.array([[2,-1,5],[1,1,-3],[2,4,1]])\n",
    "detA=round(np.linalg.det(A))\n",
    "print(f'Определитель матрицы коэффициентов detA ={detA}')"
   ]
  },
  {
   "cell_type": "markdown",
   "id": "extraordinary-financing",
   "metadata": {},
   "source": [
    "$detA\\neq 0\\Rightarrow\\text{ Система определена.}$"
   ]
  },
  {
   "cell_type": "code",
   "execution_count": 7,
   "id": "cloudy-concrete",
   "metadata": {},
   "outputs": [
    {
     "name": "stdout",
     "output_type": "stream",
     "text": [
      "Определитель матрицы коэффициентов detA = 43\n",
      "detA1 = 86, x1 = 2.0\n",
      "detA2 = -43, x2 = -1.0\n",
      "detA3 = 43, x3 = 1.0\n"
     ]
    }
   ],
   "source": [
    "A=np.array([[2,-1,5],[1,1,-3],[2,4,1]])\n",
    "B=np.array([[10],[-2],[1]])\n",
    "dets=[]\n",
    "for j in range(len(A[1])):\n",
    "    A_copy=A.copy()\n",
    "    for i in range(len(A)):\n",
    "        A_copy[i][j]=B[i]\n",
    "    dets.append(round(np.linalg.det(A_copy)))\n",
    "detA=round(np.linalg.det(A))\n",
    "print(f'Определитель матрицы коэффициентов detA = {detA}')\n",
    "for i,det in enumerate(dets):\n",
    "    print(f'detA{i+1} = {det}, x{i+1} = {det/detA}')"
   ]
  },
  {
   "cell_type": "markdown",
   "id": "described-characterization",
   "metadata": {},
   "source": [
    "$x_1=2\\\\x_2=-1\\\\x_3=1$"
   ]
  },
  {
   "cell_type": "markdown",
   "id": "spectacular-cattle",
   "metadata": {},
   "source": [
    "__2*.__ Найти $L$-матрицу $LU$-разложения для матрицы коэффициентов:\n",
    "\n",
    "   а)$\\begin{pmatrix}\n",
    "1 & 2 & 4 \\\\ \n",
    "2 & 9 & 12 \\\\ \n",
    "3 & 26 & 30\n",
    "\\end{pmatrix}$\n",
    "    \n",
    "   б)$\\begin{pmatrix}\n",
    "1 & 1 & 2 & 4\\\\ \n",
    "2 & 5 & 8 & 9\\\\ \n",
    "3 & 18 & 29 & 18\\\\\n",
    "4 & 22 & 53 & 33\n",
    "\\end{pmatrix}$"
   ]
  },
  {
   "cell_type": "markdown",
   "id": "flexible-spirit",
   "metadata": {},
   "source": [
    "---  \n",
    "а)  \n",
    "$U=\\begin{pmatrix}\n",
    "1 & 2 & 4 \\\\ \n",
    "2 & 9 & 12 \\\\ \n",
    "3 & 26 & 30\n",
    "\\end{pmatrix}$  \n",
    "\n",
    "$L=\\begin{pmatrix}\n",
    "1 & 0 & 0 \\\\ \n",
    "0 & 1 & 0 \\\\ \n",
    "0 & 0 & 1\n",
    "\\end{pmatrix}$  \n",
    "\n",
    "Вычтем из второй и третьей строк матрицы $U$ первую строку, умноженную на 2 и 3 соответственно.  \n",
    "В матрицу $L$ добавим эти множители в первый столбец на 2-ю и третью позиции.  \n",
    "\n",
    "$U=\\begin{pmatrix}\n",
    "1 & 2 & 4 \\\\ \n",
    "0 & 5 & 4 \\\\ \n",
    "0 & 20 & 18\n",
    "\\end{pmatrix}$  \n",
    "\n",
    "$L=\\begin{pmatrix}\n",
    "1 & 0 & 0 \\\\ \n",
    "2 & 1 & 0 \\\\ \n",
    "3 & 0 & 1\n",
    "\\end{pmatrix}$  \n",
    "\n",
    "Вычтем из третьей строки матрицы $U$ вторую строку, умноженную 4.  \n",
    "В матрицу $L$ добавим этот множитель во второй столбец на третью позицию.  \n",
    "\n",
    "$U=\\begin{pmatrix}\n",
    "1 & 2 & 4 \\\\ \n",
    "0 & 5 & 4 \\\\ \n",
    "0 & 0 & 2\n",
    "\\end{pmatrix}$  \n",
    "\n",
    "$L=\\begin{pmatrix}\n",
    "1 & 0 & 0 \\\\ \n",
    "2 & 1 & 0 \\\\ \n",
    "3 & 4 & 1\n",
    "\\end{pmatrix}$  \n",
    "\n",
    "Проверим:"
   ]
  },
  {
   "cell_type": "code",
   "execution_count": 8,
   "id": "median-newport",
   "metadata": {},
   "outputs": [
    {
     "name": "stdout",
     "output_type": "stream",
     "text": [
      "LU = [[ 1  2  4]\n",
      " [ 2  9 12]\n",
      " [ 3 26 30]]\n"
     ]
    }
   ],
   "source": [
    "U=np.array([[1,2,4],[0,5,4],[0,0,2]])\n",
    "L=np.array([[1,0,0],[2,1,0],[3,4,1]])\n",
    "print(f'LU = {L@U}')"
   ]
  },
  {
   "cell_type": "markdown",
   "id": "digital-recorder",
   "metadata": {},
   "source": [
    "Получили исходную матрицу."
   ]
  },
  {
   "cell_type": "markdown",
   "id": "independent-ireland",
   "metadata": {},
   "source": [
    "---  \n",
    "б)  \n",
    "$U=\\begin{pmatrix}\n",
    "1 & 1 & 2 & 4\\\\ \n",
    "2 & 5 & 8 & 9\\\\ \n",
    "3 & 18 & 29 & 18\\\\\n",
    "4 & 22 & 53 & 33\n",
    "\\end{pmatrix}$  \n",
    "\n",
    "$L=\\begin{pmatrix}\n",
    "1 & 0 & 0 & 0\\\\ \n",
    "0 & 1 & 0 & 0\\\\ \n",
    "0 & 0 & 1 & 0\\\\\n",
    "0 & 0 & 0 & 1\n",
    "\\end{pmatrix}$  \n",
    "\n",
    "Из второй, третьей и четвёртой строк вычитаем первую, умноженную на 2, 3 и 4, соответственно   \n",
    "\n",
    "$U=\\begin{pmatrix}\n",
    "1 & 1 & 2 & 4\\\\ \n",
    "0 & 3 & 4 & 1\\\\ \n",
    "0 & 15 & 23 & 6\\\\\n",
    "0 & 18 & 45 & 17\n",
    "\\end{pmatrix}$  \n",
    "\n",
    "$L=\\begin{pmatrix}\n",
    "1 & 0 & 0 & 0\\\\ \n",
    "2 & 1 & 0 & 0\\\\ \n",
    "3 & 0 & 1 & 0\\\\\n",
    "4 & 0 & 0 & 1\n",
    "\\end{pmatrix}$  \n",
    "\n",
    "Из третьей и четвёртой строк вычитаем вторую, умноженную на 5 и 6, соответственно  \n",
    "\n",
    "$U=\\begin{pmatrix}\n",
    "1 & 1 & 2 & 4\\\\ \n",
    "0 & 3 & 4 & 1\\\\ \n",
    "0 & 0 & 3 & 1\\\\\n",
    "0 & 0 & 21 & 11\n",
    "\\end{pmatrix}$  \n",
    "\n",
    "$L=\\begin{pmatrix}\n",
    "1 & 0 & 0 & 0\\\\ \n",
    "2 & 1 & 0 & 0\\\\ \n",
    "3 & 5 & 1 & 0\\\\\n",
    "4 & 6 & 0 & 1\n",
    "\\end{pmatrix}$  \n",
    "\n",
    "Из четвёртой строки вычтем третью, умноженную на 7\n",
    "\n",
    "$U=\\begin{pmatrix}\n",
    "1 & 1 & 2 & 4\\\\ \n",
    "0 & 3 & 4 & 1\\\\ \n",
    "0 & 0 & 3 & 1\\\\\n",
    "0 & 0 & 0 & 4\n",
    "\\end{pmatrix}$  \n",
    "\n",
    "$L=\\begin{pmatrix}\n",
    "1 & 0 & 0 & 0\\\\ \n",
    "2 & 1 & 0 & 0\\\\ \n",
    "3 & 5 & 1 & 0\\\\\n",
    "4 & 6 & 7 & 1\n",
    "\\end{pmatrix}$  \n",
    "\n",
    "Проверим:"
   ]
  },
  {
   "cell_type": "code",
   "execution_count": 9,
   "id": "adolescent-manufacturer",
   "metadata": {},
   "outputs": [
    {
     "name": "stdout",
     "output_type": "stream",
     "text": [
      "LU = [[ 1  1  2  4]\n",
      " [ 2  5  8  9]\n",
      " [ 3 18 29 18]\n",
      " [ 4 22 53 33]]\n"
     ]
    }
   ],
   "source": [
    "L=np.array([[1,0,0,0],[2,1,0,0],[3,5,1,0],[4,6,7,1]])\n",
    "U=np.array([[1,1,2,4],[0,3,4,1],[0,0,3,1],[0,0,0,4]])\n",
    "print(f'LU = {L@U}')"
   ]
  },
  {
   "cell_type": "markdown",
   "id": "legislative-debut",
   "metadata": {},
   "source": [
    "Получили исходную матрицу."
   ]
  },
  {
   "cell_type": "markdown",
   "id": "present-future",
   "metadata": {},
   "source": [
    "__3*.__ Решить систему линейных уравнений методом $LU$-разложения\n",
    "\n",
    "$\\begin{cases}\n",
    "2x_{1}+x_{2}+3x_{3}=1 \\\\\n",
    "11x_{1}+7x_{2}+5x_{3}=-6 \\\\\n",
    "9x_{1}+8x_{2}+4x_{3}=-5\n",
    "\\end{cases}$"
   ]
  },
  {
   "cell_type": "code",
   "execution_count": 481,
   "id": "reported-terrorist",
   "metadata": {},
   "outputs": [
    {
     "data": {
      "text/plain": [
       "array([[ 2,  1,  3],\n",
       "       [11,  7,  5],\n",
       "       [ 9,  8,  4]])"
      ]
     },
     "execution_count": 481,
     "metadata": {},
     "output_type": "execute_result"
    }
   ],
   "source": [
    "A=np.array([[2,1,3],[11,7,5],[9,8,4]])\n",
    "b=np.array([1,-6,-5])\n",
    "A"
   ]
  },
  {
   "cell_type": "code",
   "execution_count": 482,
   "id": "incoming-intellectual",
   "metadata": {},
   "outputs": [
    {
     "data": {
      "text/plain": [
       "array([ 1, -6, -5])"
      ]
     },
     "execution_count": 482,
     "metadata": {},
     "output_type": "execute_result"
    }
   ],
   "source": [
    "b"
   ]
  },
  {
   "cell_type": "markdown",
   "id": "european-lawrence",
   "metadata": {},
   "source": [
    "Найдем матрицы $L$ и $U$"
   ]
  },
  {
   "cell_type": "code",
   "execution_count": 483,
   "id": "spiritual-scottish",
   "metadata": {
    "scrolled": true
   },
   "outputs": [
    {
     "name": "stdout",
     "output_type": "stream",
     "text": [
      "Матрица p: \n",
      "[[0. 0. 1.]\n",
      " [1. 0. 0.]\n",
      " [0. 1. 0.]]\n",
      "Матрица L:\n",
      "[[ 1.          0.          0.        ]\n",
      " [ 0.81818182  1.          0.        ]\n",
      " [ 0.18181818 -0.12        1.        ]]\n",
      "Матрица U:\n",
      "[[11.          7.          5.        ]\n",
      " [ 0.          2.27272727 -0.09090909]\n",
      " [ 0.          0.          2.08      ]]\n"
     ]
    }
   ],
   "source": [
    "p,L,U=scipy.linalg.lu(A)\n",
    "print(f'Матрица p: \\n{p}\\nМатрица L:\\n{L}\\nМатрица U:\\n{U}')"
   ]
  },
  {
   "cell_type": "markdown",
   "id": "grand-tampa",
   "metadata": {},
   "source": [
    "Решим систему $Ly=b$"
   ]
  },
  {
   "cell_type": "code",
   "execution_count": 484,
   "id": "decent-basketball",
   "metadata": {
    "scrolled": false
   },
   "outputs": [
    {
     "data": {
      "text/plain": [
       "array([[-6.        ],\n",
       "       [-0.09090909],\n",
       "       [ 2.08      ]])"
      ]
     },
     "execution_count": 484,
     "metadata": {},
     "output_type": "execute_result"
    }
   ],
   "source": [
    "def y_search(L,b,p):\n",
    "    y_arr=np.array([0 for i in range(len(b))],dtype=float)\n",
    "    b_copy=(p.T@b).astype(np.float)\n",
    "    for i in range(len(b)):\n",
    "        for j in range(len(b)):\n",
    "            tot=(L[i][j]*y_arr[j])\n",
    "            b_copy[i]-=tot\n",
    "        y_arr[i]=b_copy[i]/L[i][i]\n",
    "    return y_arr.reshape(len(b),-1)\n",
    "\n",
    "y_arr=y_search(L,b,p)\n",
    "y_arr\n",
    "            "
   ]
  },
  {
   "cell_type": "markdown",
   "id": "interested-honey",
   "metadata": {},
   "source": [
    "Решим систему $Ux=b$:"
   ]
  },
  {
   "cell_type": "code",
   "execution_count": 485,
   "id": "together-heath",
   "metadata": {},
   "outputs": [],
   "source": [
    "def x_search(U,y_arr):\n",
    "    x_arr=np.array([0 for i in range(len(y_arr))],dtype=float)\n",
    "    b_copy=y_arr.copy()\n",
    "    for i in range(len(y_arr)-1,-1,-1):\n",
    "        for j in range(len(y_arr)-1,-1,-1):\n",
    "            tot=(U[i][j]*x_arr[j])\n",
    "            b_copy[i]-=tot\n",
    "        x_arr[i]=b_copy[i]/U[i][i]\n",
    "    return x_arr.reshape(len(x_arr),-1)"
   ]
  },
  {
   "cell_type": "code",
   "execution_count": 486,
   "id": "objective-forth",
   "metadata": {},
   "outputs": [
    {
     "data": {
      "text/plain": [
       "array([[-1.00000000e+00],\n",
       "       [ 1.46549439e-16],\n",
       "       [ 1.00000000e+00]])"
      ]
     },
     "execution_count": 486,
     "metadata": {},
     "output_type": "execute_result"
    }
   ],
   "source": [
    "x_arr=x_search(U,y_arr)\n",
    "x_arr"
   ]
  },
  {
   "cell_type": "markdown",
   "id": "local-quality",
   "metadata": {},
   "source": [
    "$x_1=-1,\\\\\n",
    "x_2=0,\\\\\n",
    "x_3=1.$  \n",
    "\n",
    "Проверим:  \n",
    "\n",
    "$\\begin{cases}\n",
    "2\\cdot -1+0+3\\cdot 1=1 \\\\\n",
    "11\\cdot -1+7\\cdot 0+5\\cdot 1=-6 \\\\\n",
    "9\\cdot -1+8\\cdot 0+4\\cdot 1=-5\n",
    "\\end{cases}$ - верно!"
   ]
  },
  {
   "cell_type": "markdown",
   "id": "overhead-aluminum",
   "metadata": {},
   "source": [
    "Проверим еще раз на системе из материалов к лекции:  \n",
    "\n",
    "$\\begin{cases}\n",
    "2x_{1}+x_{2}-x_{3}=5, \\\\\n",
    "4x_{1}-6x_{2}-2x_{3}=-2, \\\\\n",
    "-2x_{1}+7x_{2}-3x_{3}=7\n",
    "\\end{cases}$  \n",
    "\n",
    "решение которой известно:  \n",
    "\n",
    "$x_{3}=0$,  \n",
    "$x_{2}=1.5$,  \n",
    "$x_{1}=1.75$."
   ]
  },
  {
   "cell_type": "code",
   "execution_count": 487,
   "id": "certified-benefit",
   "metadata": {},
   "outputs": [
    {
     "data": {
      "text/plain": [
       "array([[-2.],\n",
       "       [ 6.],\n",
       "       [ 0.]])"
      ]
     },
     "execution_count": 487,
     "metadata": {},
     "output_type": "execute_result"
    }
   ],
   "source": [
    "A=np.array([[2,1,-1],[4,-6,-2],[-2,7,-3]])\n",
    "b=np.array([5,-2,7],dtype=float)\n",
    "p,L,U=scipy.linalg.lu(B)\n",
    "y_arr=y_search(L,b,p)\n",
    "y_arr"
   ]
  },
  {
   "cell_type": "code",
   "execution_count": 488,
   "id": "banned-compilation",
   "metadata": {},
   "outputs": [
    {
     "data": {
      "text/plain": [
       "array([[ 1.75],\n",
       "       [ 1.5 ],\n",
       "       [-0.  ]])"
      ]
     },
     "execution_count": 488,
     "metadata": {},
     "output_type": "execute_result"
    }
   ],
   "source": [
    "x_arr=x_search(U,y_arr)\n",
    "x_arr"
   ]
  },
  {
   "cell_type": "markdown",
   "id": "attractive-noise",
   "metadata": {},
   "source": [
    "Ответ совпал:  \n",
    "$x_1=1.75,\\\\\n",
    "x_2=1.5,\\\\\n",
    "x_3=0.$"
   ]
  },
  {
   "cell_type": "markdown",
   "id": "affecting-personal",
   "metadata": {},
   "source": [
    "__4*.__ Решить систему линейных уравнений методом Холецкого\n",
    "\n",
    "$\\begin{cases}\n",
    "81x_{1}-45x_{2}+45x_{3}=531 \\\\\n",
    "-45x_{1}+50x_{2}-15x_{3}=-460 \\\\\n",
    "45x_{1}-15x_{2}+38x_{3}=193\n",
    "\\end{cases}$\n"
   ]
  },
  {
   "cell_type": "code",
   "execution_count": 475,
   "id": "legislative-checklist",
   "metadata": {},
   "outputs": [],
   "source": [
    "A=np.array([[81,-45,45],[-45,50,-15], [45,-15,38]])\n",
    "b=np.array([531,-460,193])"
   ]
  },
  {
   "cell_type": "markdown",
   "id": "wicked-invention",
   "metadata": {},
   "source": [
    "Напишем функцию, для получения нижней треугольной матрицы $L$ по методу Холецкого:"
   ]
  },
  {
   "cell_type": "code",
   "execution_count": 460,
   "id": "fatty-anatomy",
   "metadata": {},
   "outputs": [],
   "source": [
    "def my_choletsky(matrix):\n",
    "    l=np.zeros_like(matrix,dtype=float)\n",
    "    for i in range(len(matrix)):\n",
    "        for j in range(len(matrix)):\n",
    "            if j==i:\n",
    "                sum_sq=0\n",
    "                for k in range(i):\n",
    "                    sum_sq+=l[i][k]**2\n",
    "                l[i][i]=np.sqrt(matrix[i][i]-sum_sq)\n",
    "            elif j<i:\n",
    "                sum_mult=0\n",
    "                for k in range(j):\n",
    "                    sum_mult+=l[i][k]*l[j][k]\n",
    "                l[i][j]=(1/l[j][j])*(matrix[i][j]-sum_mult)\n",
    "            else:\n",
    "                l[i][j]=0\n",
    "                \n",
    "    return l"
   ]
  },
  {
   "cell_type": "markdown",
   "id": "combined-anxiety",
   "metadata": {},
   "source": [
    "Найдем матрицу $L$:"
   ]
  },
  {
   "cell_type": "code",
   "execution_count": 461,
   "id": "universal-developer",
   "metadata": {},
   "outputs": [
    {
     "data": {
      "text/plain": [
       "array([[ 9.,  0.,  0.],\n",
       "       [-5.,  5.,  0.],\n",
       "       [ 5.,  2.,  3.]])"
      ]
     },
     "execution_count": 461,
     "metadata": {},
     "output_type": "execute_result"
    }
   ],
   "source": [
    "L=my_choletsky(A)\n",
    "L"
   ]
  },
  {
   "cell_type": "markdown",
   "id": "improving-writing",
   "metadata": {},
   "source": [
    "Проверим что $LL^T=A$:"
   ]
  },
  {
   "cell_type": "code",
   "execution_count": 462,
   "id": "current-tanzania",
   "metadata": {},
   "outputs": [
    {
     "name": "stdout",
     "output_type": "stream",
     "text": [
      "[[ 81. -45.  45.]\n",
      " [-45.  50. -15.]\n",
      " [ 45. -15.  38.]]\n"
     ]
    },
    {
     "data": {
      "text/plain": [
       "True"
      ]
     },
     "execution_count": 462,
     "metadata": {},
     "output_type": "execute_result"
    }
   ],
   "source": [
    "print(L@L.T)\n",
    "np.all(L@L.T==A)"
   ]
  },
  {
   "cell_type": "markdown",
   "id": "attached-destruction",
   "metadata": {},
   "source": [
    "Найдем матрицу $L$ с помощью numpy:"
   ]
  },
  {
   "cell_type": "code",
   "execution_count": 463,
   "id": "geographic-blogger",
   "metadata": {},
   "outputs": [
    {
     "name": "stdout",
     "output_type": "stream",
     "text": [
      "[[ 9.  0.  0.]\n",
      " [-5.  5.  0.]\n",
      " [ 5.  2.  3.]]\n"
     ]
    },
    {
     "data": {
      "text/plain": [
       "True"
      ]
     },
     "execution_count": 463,
     "metadata": {},
     "output_type": "execute_result"
    }
   ],
   "source": [
    "L_numpy=np.linalg.cholesky(A)\n",
    "print(L_numpy)\n",
    "np.all(L_numpy==L)"
   ]
  },
  {
   "cell_type": "markdown",
   "id": "further-karen",
   "metadata": {},
   "source": [
    "Решим систему $Ly=b$, для этого чуть модифицируем функцию $\\text{y_search}$ из предыдущей задачи:"
   ]
  },
  {
   "cell_type": "code",
   "execution_count": 464,
   "id": "harmful-complexity",
   "metadata": {},
   "outputs": [
    {
     "data": {
      "text/plain": [
       "array([[ 59.],\n",
       "       [-33.],\n",
       "       [-12.]])"
      ]
     },
     "execution_count": 464,
     "metadata": {},
     "output_type": "execute_result"
    }
   ],
   "source": [
    "def choletsky_y_search(L,b):\n",
    "    y_arr=np.array([0 for i in range(len(b))],dtype=float)\n",
    "    b_copy=b.astype(np.float).copy()\n",
    "    for i in range(len(b)):\n",
    "        for j in range(len(b)):\n",
    "            total=(L[i][j]*y_arr[j])\n",
    "            b_copy[i]-=total\n",
    "        y_arr[i]=b_copy[i]/L[i][i]\n",
    "    return y_arr.reshape(len(b),-1)\n",
    "\n",
    "y_arr=choletsky_y_search(L,b)\n",
    "y_arr"
   ]
  },
  {
   "cell_type": "markdown",
   "id": "suffering-indian",
   "metadata": {},
   "source": [
    "Решим систему $L^{T}x=y$, с помощью ранее написаной функции $\\text{x_search}$:"
   ]
  },
  {
   "cell_type": "code",
   "execution_count": 455,
   "id": "through-british",
   "metadata": {},
   "outputs": [
    {
     "data": {
      "text/plain": [
       "array([[ 6.],\n",
       "       [-5.],\n",
       "       [-4.]])"
      ]
     },
     "execution_count": 455,
     "metadata": {},
     "output_type": "execute_result"
    }
   ],
   "source": [
    "x_arr=x_search(L.T,y_arr)\n",
    "x_arr"
   ]
  },
  {
   "cell_type": "markdown",
   "id": "distant-nightlife",
   "metadata": {},
   "source": [
    "$x_1=6,\\\\\n",
    "x_2=-5,\\\\\n",
    "x_3=-4.$"
   ]
  },
  {
   "cell_type": "markdown",
   "id": "competitive-checkout",
   "metadata": {},
   "source": [
    "__5*.__ Написать на Python программу с реализацией одного из изученных алгоритмов решения СЛАУ."
   ]
  },
  {
   "cell_type": "markdown",
   "id": "ordered-thickness",
   "metadata": {},
   "source": [
    "Метод Холецкого реализован в задаче $№ 4$"
   ]
  },
  {
   "cell_type": "code",
   "execution_count": null,
   "id": "stunning-breakfast",
   "metadata": {},
   "outputs": [],
   "source": []
  }
 ],
 "metadata": {
  "kernelspec": {
   "display_name": "Python 3",
   "language": "python",
   "name": "python3"
  },
  "language_info": {
   "codemirror_mode": {
    "name": "ipython",
    "version": 3
   },
   "file_extension": ".py",
   "mimetype": "text/x-python",
   "name": "python",
   "nbconvert_exporter": "python",
   "pygments_lexer": "ipython3",
   "version": "3.8.5"
  }
 },
 "nbformat": 4,
 "nbformat_minor": 5
}
