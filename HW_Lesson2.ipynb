{
 "cells": [
  {
   "cell_type": "markdown",
   "id": "average-locking",
   "metadata": {},
   "source": [
    "# <center>Практическое задание к уроку 2.  \n",
    "## Часть 1."
   ]
  },
  {
   "cell_type": "code",
   "execution_count": 9,
   "id": "crucial-valuation",
   "metadata": {},
   "outputs": [],
   "source": [
    "import numpy as np\n",
    "import numpy.linalg"
   ]
  },
  {
   "cell_type": "markdown",
   "id": "industrial-february",
   "metadata": {},
   "source": [
    "__1.__ Установить, какие произведения матриц $AB$ и $BA$ определены, и найти размерности полученных матриц:\n",
    "\n",
    "   а) $A$ — матрица $4\\times 2$, $B$ — матрица $4\\times 2$;\n",
    "    \n",
    "   б) $A$ — матрица $2\\times 5$, $B$ — матрица $5\\times 3$;\n",
    "    \n",
    "   в) $A$ — матрица $8\\times 3$, $B$ — матрица $3\\times 8$;\n",
    "    \n",
    "   г) $A$ — квадратная матрица $4\\times 4$, $B$ — квадратная матрица $4\\times 4$.  \n",
    "   \n",
    " ---"
   ]
  },
  {
   "cell_type": "markdown",
   "id": "statewide-share",
   "metadata": {},
   "source": [
    "а) Поскольку число столбцов матрицы $A$(2) не равно числу строк матрицы $B$ (4), $\\Rightarrow A\\cdot B\\text{ не определено}$, а поскольку число столбцов матрицы $B$ (2), так же не равно числу строк матрицы $A$ (4), $\\Rightarrow B\\cdot A\\text{ так же, не определено}$  \n",
    "\n",
    "---\n",
    "б) $A\\cdot B$ определено, полученная матрица имеет размер $2\\times 3$, $B\\cdot A\\text{ не определено}$  \n",
    "\n",
    "---  \n",
    "в) $A\\cdot B$ определено, полученная матрица имеет размер $8\\times 8$, $B\\cdot A$ определено, полученная матрица имеет размер $3\\times 3$  \n",
    "\n",
    "---  \n",
    "г) $A\\cdot B$ и $B\\cdot A$ определены и полученные матрицы имеют размер $4\\times 4$.  \n",
    "\n",
    "---"
   ]
  },
  {
   "cell_type": "markdown",
   "id": "swedish-investing",
   "metadata": {},
   "source": [
    "__2.__ Найти сумму и произведение матриц $A=\\begin{pmatrix}\n",
    "1 & -2\\\\ \n",
    "3 & 0\n",
    "\\end{pmatrix}$ и $B=\\begin{pmatrix}\n",
    "4 & -1\\\\ \n",
    "0 & 5\n",
    "\\end{pmatrix}$."
   ]
  },
  {
   "cell_type": "markdown",
   "id": "derived-ozone",
   "metadata": {},
   "source": [
    "$A+B=\\begin{pmatrix}1+4 & -2+(-1)\\\\3+0 & 0+5\\end{pmatrix}=\\begin{pmatrix}5 & -3\\\\3 & 5\\end{pmatrix}$"
   ]
  },
  {
   "cell_type": "code",
   "execution_count": 43,
   "id": "ranging-spread",
   "metadata": {},
   "outputs": [
    {
     "data": {
      "text/plain": [
       "array([[ 5, -3],\n",
       "       [ 3,  5]])"
      ]
     },
     "execution_count": 43,
     "metadata": {},
     "output_type": "execute_result"
    }
   ],
   "source": [
    "A=np.array([[1,-2],[3,0]])\n",
    "B=np.array([[4,-1],[0,5]])\n",
    "C=np.arange(4).reshape(2,2)\n",
    "for i in range(len(A)):\n",
    "    for j in range(len(A[i])):\n",
    "        C[i][j]=A[i][j]+B[i][j]\n",
    "C"
   ]
  },
  {
   "cell_type": "markdown",
   "id": "nominated-yorkshire",
   "metadata": {},
   "source": [
    "Проверим с numpy:  "
   ]
  },
  {
   "cell_type": "code",
   "execution_count": 15,
   "id": "duplicate-merchandise",
   "metadata": {},
   "outputs": [
    {
     "data": {
      "text/plain": [
       "array([[ 5, -3],\n",
       "       [ 3,  5]])"
      ]
     },
     "execution_count": 15,
     "metadata": {},
     "output_type": "execute_result"
    }
   ],
   "source": [
    "A+B"
   ]
  },
  {
   "cell_type": "markdown",
   "id": "unlimited-swimming",
   "metadata": {},
   "source": [
    "---  \n",
    "$A\\cdot B=\\begin{pmatrix}1 & -2\\\\3 & 0\\end{pmatrix}\\cdot \\begin{pmatrix}4 & -1\\\\0 & 5\\end{pmatrix}=\\begin{pmatrix}1\\cdot 4+(-2)\\cdot 0 & 1\\cdot -1+(-2)\\cdot 5\\\\3\\cdot 4+0\\cdot 0 & 3\\cdot -1 +0\\cdot 5\\end{pmatrix}=\\begin{pmatrix}4 & -11\\\\12 & -3\\end{pmatrix}$  \n",
    "\n",
    "---\n",
    "$B\\cdot A=\\begin{pmatrix}4 & -1\\\\0 & 5\\end{pmatrix}\\cdot\\begin{pmatrix}1 & -2\\\\3 & 0\\end{pmatrix} =\\begin{pmatrix}4\\cdot 1+(-1)\\cdot 3 & 4\\cdot -2+(-1)\\cdot 0\\\\0\\cdot 1+5\\cdot 3 & 0\\cdot -2 +5\\cdot 0\\end{pmatrix}=\\begin{pmatrix}1 & -8\\\\15 & 0\\end{pmatrix}$  \n",
    "\n",
    "---"
   ]
  },
  {
   "cell_type": "markdown",
   "id": "civil-butler",
   "metadata": {},
   "source": [
    "Проверим с numpy: "
   ]
  },
  {
   "cell_type": "code",
   "execution_count": 14,
   "id": "knowing-webmaster",
   "metadata": {},
   "outputs": [
    {
     "data": {
      "text/plain": [
       "array([[  4, -11],\n",
       "       [ 12,  -3]])"
      ]
     },
     "execution_count": 14,
     "metadata": {},
     "output_type": "execute_result"
    }
   ],
   "source": [
    "A@B"
   ]
  },
  {
   "cell_type": "code",
   "execution_count": 15,
   "id": "elect-austin",
   "metadata": {},
   "outputs": [
    {
     "data": {
      "text/plain": [
       "array([[ 1, -8],\n",
       "       [15,  0]])"
      ]
     },
     "execution_count": 15,
     "metadata": {},
     "output_type": "execute_result"
    }
   ],
   "source": [
    "B@A"
   ]
  },
  {
   "cell_type": "markdown",
   "id": "eight-premises",
   "metadata": {},
   "source": [
    "__3.__ Из закономерностей сложения и умножения матриц на число можно сделать вывод, что матрицы одного размера образуют линейное пространство. Вычислить линейную комбинацию $3A-2B+4C$ для матриц $A=\\begin{pmatrix}\n",
    "1 & 7\\\\ \n",
    "3 & -6\n",
    "\\end{pmatrix}$, $B=\\begin{pmatrix}\n",
    "0 & 5\\\\ \n",
    "2 & -1\n",
    "\\end{pmatrix}$, $C=\\begin{pmatrix}\n",
    "2 & -4\\\\ \n",
    "1 & 1\n",
    "\\end{pmatrix}$."
   ]
  },
  {
   "cell_type": "markdown",
   "id": "civil-nomination",
   "metadata": {},
   "source": [
    "---  \n",
    "$3A-2B+4C=3\\cdot \\begin{pmatrix}1 & 7\\\\3 & -6\\end{pmatrix}-2\\cdot \\begin{pmatrix}0 & 5\\\\2 & -1\\end{pmatrix}+4\\cdot \\begin{pmatrix}2 & -4\\\\ 1 & 1\\end{pmatrix}=\\begin{pmatrix}1\\cdot 3 & 7\\cdot 3\\\\3\\cdot 3 & -6\\cdot 3\\end{pmatrix}-\\begin{pmatrix}0\\cdot 2 & 5\\cdot 2\\\\2\\cdot 2 & -1\\cdot 2\\end{pmatrix}+\\begin{pmatrix}2\\cdot 4 & -4\\cdot 4\\\\ 1\\cdot 4 & 1\\cdot 4\\end{pmatrix}=\\begin{pmatrix}3-0+8 & 21-10-16\\\\9-4+4 & -18+2+4\\end{pmatrix}=\\begin{pmatrix}11 & -5\\\\9 & -12\\end{pmatrix}$  \n",
    "\n",
    "---"
   ]
  },
  {
   "cell_type": "markdown",
   "id": "waiting-fleece",
   "metadata": {},
   "source": [
    "Проверим с numpy:"
   ]
  },
  {
   "cell_type": "code",
   "execution_count": 16,
   "id": "inside-triple",
   "metadata": {},
   "outputs": [
    {
     "data": {
      "text/plain": [
       "array([[ 11,  -5],\n",
       "       [  9, -12]])"
      ]
     },
     "execution_count": 16,
     "metadata": {},
     "output_type": "execute_result"
    }
   ],
   "source": [
    "a=np.array([[1,7],[3,-6]])\n",
    "b=np.array([[0,5],[2,-1]])\n",
    "c=np.array([[2,-4],[1,1]])\n",
    "3*a-2*b+4*c"
   ]
  },
  {
   "cell_type": "markdown",
   "id": "perfect-cooking",
   "metadata": {},
   "source": [
    "__4.__ Дана матрица $A=\\begin{pmatrix}\n",
    "4 & 1\\\\ \n",
    "5 & -2\\\\ \n",
    "2 & 3\n",
    "\\end{pmatrix}$.\n",
    "Вычислить $AA^{T}$ и $A^{T}A$."
   ]
  },
  {
   "cell_type": "markdown",
   "id": "sealed-interpretation",
   "metadata": {},
   "source": [
    "---  \n",
    "$A^T=\\begin{pmatrix}4 & 5 & 2\\\\1 &-2 & 3\\end{pmatrix}$  \n",
    "$AA^T=\\begin{pmatrix}4 & 1\\\\ 5 & -2\\\\ 2 & 3\\end{pmatrix}\\cdot \\begin{pmatrix}4 & 5 & 2\\\\1 &-2 & 3\\end{pmatrix}=\\begin{pmatrix}4\\cdot 4+1\\cdot 1 & 4\\cdot 5+1\\cdot -2 & 4\\cdot 2+1\\cdot 3\\\\5\\cdot 4+(-2)\\cdot 1 & 5\\cdot 5+(-2)\\cdot -2 & 5\\cdot 2+(-2)\\cdot 3\\\\2\\cdot 4+3\\cdot 1 & 2\\cdot 5+3\\cdot -2 & 2\\cdot 2+3\\cdot 3\\end{pmatrix}=\\begin{pmatrix}17 & 18 & 11\\\\18 & 29 & 4\\\\11 & 4 & 13\\end{pmatrix}$"
   ]
  },
  {
   "cell_type": "markdown",
   "id": "aging-surface",
   "metadata": {},
   "source": [
    "$A^{T}A=\\begin{pmatrix}4 & 5 & 2\\\\1 &-2 & 3\\end{pmatrix}\\cdot \\begin{pmatrix}4 & 1\\\\ 5 & -2\\\\ 2 & 3\\end{pmatrix}=\\begin{pmatrix}4\\cdot 4 + 5\\cdot 5+2\\cdot 2 & 4\\cdot 1 + 5\\cdot -2+2\\cdot 3\\\\1\\cdot 4 + (-2)\\cdot 5+3\\cdot 2 & 1\\cdot 1 + (-2)\\cdot -2+3\\cdot 3\\end{pmatrix}=\\begin{pmatrix}45 & 0\\\\0 & 14\\end{pmatrix}$"
   ]
  },
  {
   "cell_type": "code",
   "execution_count": 32,
   "id": "built-marijuana",
   "metadata": {},
   "outputs": [],
   "source": [
    "# Функция возвращает транспонированную матрицу\n",
    "def trans_matrix(matrix):\n",
    "    trans=np.empty(shape=[matrix.shape[1],matrix.shape[0]])\n",
    "    for i in range(trans.shape[0]):\n",
    "        for j in range(trans.shape[1]):\n",
    "            trans[i][j]=matrix[j][i]\n",
    "    return trans"
   ]
  },
  {
   "cell_type": "markdown",
   "id": "whole-malpractice",
   "metadata": {},
   "source": [
    "Проверим с numpy:"
   ]
  },
  {
   "cell_type": "code",
   "execution_count": 33,
   "id": "cathedral-request",
   "metadata": {},
   "outputs": [
    {
     "data": {
      "text/plain": [
       "array([[ 4.,  5.,  2.],\n",
       "       [ 1., -2.,  3.]])"
      ]
     },
     "execution_count": 33,
     "metadata": {},
     "output_type": "execute_result"
    }
   ],
   "source": [
    "A=np.array([[4,1],[5,-2],[2,3]])\n",
    "trans_matrix(A)"
   ]
  },
  {
   "cell_type": "code",
   "execution_count": 34,
   "id": "neural-clothing",
   "metadata": {},
   "outputs": [
    {
     "data": {
      "text/plain": [
       "array([[ 4,  5,  2],\n",
       "       [ 1, -2,  3]])"
      ]
     },
     "execution_count": 34,
     "metadata": {},
     "output_type": "execute_result"
    }
   ],
   "source": [
    "A.T"
   ]
  },
  {
   "cell_type": "code",
   "execution_count": 35,
   "id": "continuing-cooper",
   "metadata": {},
   "outputs": [
    {
     "data": {
      "text/plain": [
       "array([[17., 18., 11.],\n",
       "       [18., 29.,  4.],\n",
       "       [11.,  4., 13.]])"
      ]
     },
     "execution_count": 35,
     "metadata": {},
     "output_type": "execute_result"
    }
   ],
   "source": [
    "A@trans_matrix(A)"
   ]
  },
  {
   "cell_type": "code",
   "execution_count": 36,
   "id": "plastic-updating",
   "metadata": {},
   "outputs": [
    {
     "data": {
      "text/plain": [
       "array([[17, 18, 11],\n",
       "       [18, 29,  4],\n",
       "       [11,  4, 13]])"
      ]
     },
     "execution_count": 36,
     "metadata": {},
     "output_type": "execute_result"
    }
   ],
   "source": [
    "A@A.T"
   ]
  },
  {
   "cell_type": "code",
   "execution_count": 37,
   "id": "convinced-trouble",
   "metadata": {},
   "outputs": [
    {
     "data": {
      "text/plain": [
       "array([[45.,  0.],\n",
       "       [ 0., 14.]])"
      ]
     },
     "execution_count": 37,
     "metadata": {},
     "output_type": "execute_result"
    }
   ],
   "source": [
    "trans_matrix(A)@A"
   ]
  },
  {
   "cell_type": "code",
   "execution_count": 38,
   "id": "moderate-asian",
   "metadata": {},
   "outputs": [
    {
     "data": {
      "text/plain": [
       "array([[45,  0],\n",
       "       [ 0, 14]])"
      ]
     },
     "execution_count": 38,
     "metadata": {},
     "output_type": "execute_result"
    }
   ],
   "source": [
    "A.T@A"
   ]
  },
  {
   "cell_type": "markdown",
   "id": "active-stockholm",
   "metadata": {},
   "source": [
    "__5*.__ Написать на Python функцию для перемножения двух произвольных матриц, не используя NumPy."
   ]
  },
  {
   "cell_type": "code",
   "execution_count": 215,
   "id": "intensive-integrity",
   "metadata": {},
   "outputs": [],
   "source": [
    "def multiplicate_matrix(left,right):\n",
    "    try: \n",
    "        left.shape[1]==right.shape[0]\n",
    "        result=[]\n",
    "        temp=[]\n",
    "        s=0\n",
    "        for i in range(left.shape[0]):\n",
    "            for j in range(right.shape[1]):\n",
    "                for k in range(right.shape[0]):\n",
    "                    s+=left[i][k]*right[k][j]\n",
    "                temp.append(s)\n",
    "                s=0\n",
    "            result.append(temp)\n",
    "            temp=[]\n",
    "        return np.array(result)\n",
    "    except Exception:\n",
    "        print('Произведение матриц таких размеров не определено!')"
   ]
  },
  {
   "cell_type": "code",
   "execution_count": 216,
   "id": "gentle-equipment",
   "metadata": {},
   "outputs": [],
   "source": [
    "A=np.array([[1,-2],[3,0],[4,1],[6,9]])\n",
    "B=np.array([[4,-1,3,2],[0,5,2,-5]])"
   ]
  },
  {
   "cell_type": "code",
   "execution_count": 217,
   "id": "driving-designation",
   "metadata": {
    "scrolled": true
   },
   "outputs": [
    {
     "data": {
      "text/plain": [
       "array([[  4, -11,  -1,  12],\n",
       "       [ 12,  -3,   9,   6],\n",
       "       [ 16,   1,  14,   3],\n",
       "       [ 24,  39,  36, -33]])"
      ]
     },
     "execution_count": 217,
     "metadata": {},
     "output_type": "execute_result"
    }
   ],
   "source": [
    "A.dot(B)"
   ]
  },
  {
   "cell_type": "code",
   "execution_count": 218,
   "id": "dominican-right",
   "metadata": {},
   "outputs": [
    {
     "data": {
      "text/plain": [
       "array([[  4, -11,  -1,  12],\n",
       "       [ 12,  -3,   9,   6],\n",
       "       [ 16,   1,  14,   3],\n",
       "       [ 24,  39,  36, -33]])"
      ]
     },
     "execution_count": 218,
     "metadata": {},
     "output_type": "execute_result"
    }
   ],
   "source": [
    "multiplicate_matrix(A,B)"
   ]
  },
  {
   "cell_type": "code",
   "execution_count": 219,
   "id": "sacred-helping",
   "metadata": {},
   "outputs": [
    {
     "data": {
      "text/plain": [
       "array([[ 25,  13],\n",
       "       [ -7, -43]])"
      ]
     },
     "execution_count": 219,
     "metadata": {},
     "output_type": "execute_result"
    }
   ],
   "source": [
    "B.dot(A)"
   ]
  },
  {
   "cell_type": "code",
   "execution_count": 220,
   "id": "designed-death",
   "metadata": {},
   "outputs": [
    {
     "data": {
      "text/plain": [
       "array([[ 25,  13],\n",
       "       [ -7, -43]])"
      ]
     },
     "execution_count": 220,
     "metadata": {},
     "output_type": "execute_result"
    }
   ],
   "source": [
    "multiplicate_matrix(B,A)"
   ]
  },
  {
   "cell_type": "markdown",
   "id": "incredible-lewis",
   "metadata": {},
   "source": [
    "## Часть 2."
   ]
  },
  {
   "cell_type": "markdown",
   "id": "quarterly-tenant",
   "metadata": {},
   "source": [
    "__1.__ Вычислить определитель:\n",
    "\n",
    "   a)\n",
    "\n",
    "$\\begin{pmatrix}\n",
    "sinx & -cosx\\\\ \n",
    "cosx & sinx\n",
    "\\end{pmatrix}$;\n",
    "\n",
    "   б)\n",
    "    \n",
    "$\\begin{pmatrix}\n",
    "4 & 2 & 3\\\\ \n",
    "0 & 5 & 1\\\\ \n",
    "0 & 0 & 9\n",
    "\\end{pmatrix}$;\n",
    "    \n",
    "   в)\n",
    "\n",
    "$\\begin{pmatrix}\n",
    "1 & 2 & 3\\\\ \n",
    "4 & 5 & 6\\\\ \n",
    "7 & 8 & 9\n",
    "\\end{pmatrix}$."
   ]
  },
  {
   "cell_type": "markdown",
   "id": "undefined-officer",
   "metadata": {},
   "source": [
    "---  \n",
    "а) Для матрицы порядка 2:  \n",
    "$A=\\begin{pmatrix}\n",
    "a_{11} & a_{12}\\\\ \n",
    "a_{21} & a_{22}\n",
    "\\end{pmatrix}$,  \n",
    "определитель вычисляется как:  \n",
    "$detA=a_{11}a_{22} - a_{12}a_{21}$.  \n",
    "Тогда:  \n",
    "$A=\\begin{pmatrix}\n",
    "sinx & -cosx\\\\ \n",
    "cosx & sinx\n",
    "\\end{pmatrix}$  \n",
    "$detA=\\sin x \\cdot sin x - (-\\cos x)\\cdot\\cos x=\\sin^2 x + \\cos^2 x=1$"
   ]
  },
  {
   "cell_type": "markdown",
   "id": "after-assignment",
   "metadata": {},
   "source": [
    "Проверка:"
   ]
  },
  {
   "cell_type": "code",
   "execution_count": 10,
   "id": "typical-option",
   "metadata": {},
   "outputs": [
    {
     "name": "stdout",
     "output_type": "stream",
     "text": [
      "0 1\n",
      "2 1\n",
      "4 1\n",
      "6 1\n",
      "8 1\n",
      "10 1\n"
     ]
    }
   ],
   "source": [
    "for x in range(0,11,2):\n",
    "    A=np.array([[np.sin(x), -np.cos(x)],[np.cos(x), np.sin(x)]])\n",
    "    print(x, round(np.linalg.det(A)))"
   ]
  },
  {
   "cell_type": "markdown",
   "id": "robust-surge",
   "metadata": {},
   "source": [
    "б)  \n",
    "$B=\\begin{pmatrix}\n",
    "4 & 2 & 3\\\\ \n",
    "0 & 5 & 1\\\\ \n",
    "0 & 0 & 9\n",
    "\\end{pmatrix}$   \n",
    "Воспользуемся свойством определителя матрицы треугольного вида:  \n",
    "**Определитель матрицы треугольного вида равен произведению элементов, стоящих на ее главной диагонали**  \n",
    "$detB=4\\cdot 5\\cdot 9=180$"
   ]
  },
  {
   "cell_type": "markdown",
   "id": "editorial-luther",
   "metadata": {},
   "source": [
    "Проверка:  "
   ]
  },
  {
   "cell_type": "code",
   "execution_count": 205,
   "id": "certain-gregory",
   "metadata": {},
   "outputs": [
    {
     "data": {
      "text/plain": [
       "180.0"
      ]
     },
     "execution_count": 205,
     "metadata": {},
     "output_type": "execute_result"
    }
   ],
   "source": [
    "B=np.array([[4,2,3], [0,5,1],[0,0,9]])  \n",
    "np.linalg.det(B)"
   ]
  },
  {
   "cell_type": "markdown",
   "id": "plain-insider",
   "metadata": {},
   "source": [
    "в)  Разложим по элементам первой строки:  \n",
    "$C=\\begin{pmatrix}\n",
    "1 & 2 & 3\\\\ \n",
    "4 & 5 & 6\\\\ \n",
    "7 & 8 & 9\n",
    "\\end{pmatrix}$  \n",
    "$detC=1\\cdot\\begin{pmatrix}5 & 6\\\\8 & 9\\end{pmatrix}-2\\cdot\\begin{pmatrix}4 & 6\\\\7 & 9\\end{pmatrix}+3\\cdot\\begin{pmatrix}4 & 5\\\\7 & 8\\end{pmatrix}=1\\cdot (5\\cdot 9-6\\cdot 8)-2\\cdot (4\\cdot 9-6\\cdot 7)+3\\cdot (4\\cdot 8-5\\cdot 7)=0$"
   ]
  },
  {
   "cell_type": "markdown",
   "id": "steady-vector",
   "metadata": {},
   "source": [
    "Проверка:  "
   ]
  },
  {
   "cell_type": "code",
   "execution_count": 153,
   "id": "promotional-setting",
   "metadata": {
    "scrolled": true
   },
   "outputs": [
    {
     "data": {
      "text/plain": [
       "-0.0"
      ]
     },
     "execution_count": 153,
     "metadata": {},
     "output_type": "execute_result"
    }
   ],
   "source": [
    "C=np.array([[1,2,3], [4,5,6],[7,8,9]])  \n",
    "round(np.linalg.det(C),1)"
   ]
  },
  {
   "cell_type": "markdown",
   "id": "abandoned-rebecca",
   "metadata": {},
   "source": [
    "**Функция для вычисления определителя**"
   ]
  },
  {
   "cell_type": "code",
   "execution_count": 231,
   "id": "innovative-garbage",
   "metadata": {},
   "outputs": [],
   "source": [
    "def my_det(matrix):\n",
    "    '''\n",
    "    Функция вычисляет определитель матрицы(с порядком не превышающим 5), принимает в качестве аргумента двумерный массив numpy\n",
    "    '''\n",
    "    assert len(matrix)==len(matrix[0]), 'Матрица должна быть квадратной!'\n",
    "    if len(matrix)==2:\n",
    "        return matrix[0][0]*matrix[1][1] - matrix[0][1]*matrix[1][0]\n",
    "    else:\n",
    "        mults=[((-1)**i)*el for i,el in enumerate(matrix[0])]\n",
    "        minor=[]\n",
    "        total=[]\n",
    "        for i in range(len(mults)):\n",
    "            for row in matrix[1:]:\n",
    "                minor.append(np.delete(row,i))\n",
    "            total.append(minor)\n",
    "            minor=[]\n",
    "        return sum([mult*my_det(element) for mult, element in zip(mults,total)])\n",
    "\n",
    "                    "
   ]
  },
  {
   "cell_type": "markdown",
   "id": "hindu-management",
   "metadata": {},
   "source": [
    "Проверка: "
   ]
  },
  {
   "cell_type": "code",
   "execution_count": 236,
   "id": "every-circuit",
   "metadata": {},
   "outputs": [
    {
     "data": {
      "text/plain": [
       "180"
      ]
     },
     "execution_count": 236,
     "metadata": {},
     "output_type": "execute_result"
    }
   ],
   "source": [
    "B=np.array([[4,2,3], [0,5,1],[0,0,9]])\n",
    "my_det(B)"
   ]
  },
  {
   "cell_type": "code",
   "execution_count": 237,
   "id": "quality-basics",
   "metadata": {},
   "outputs": [
    {
     "data": {
      "text/plain": [
       "180.0"
      ]
     },
     "execution_count": 237,
     "metadata": {},
     "output_type": "execute_result"
    }
   ],
   "source": [
    "np.linalg.det(B)"
   ]
  },
  {
   "cell_type": "code",
   "execution_count": 238,
   "id": "christian-encounter",
   "metadata": {},
   "outputs": [
    {
     "data": {
      "text/plain": [
       "-12"
      ]
     },
     "execution_count": 238,
     "metadata": {},
     "output_type": "execute_result"
    }
   ],
   "source": [
    "D= np.array([[-1, -4, 0, -2], [0, 1, 5, 4], [3, 1, 1, 0], [-1, 0, 2, 2]])\n",
    "my_det(D)"
   ]
  },
  {
   "cell_type": "code",
   "execution_count": 239,
   "id": "passive-taste",
   "metadata": {},
   "outputs": [
    {
     "data": {
      "text/plain": [
       "-11.999999999999995"
      ]
     },
     "execution_count": 239,
     "metadata": {},
     "output_type": "execute_result"
    }
   ],
   "source": [
    "np.linalg.det(D)"
   ]
  },
  {
   "cell_type": "markdown",
   "id": "automated-google",
   "metadata": {},
   "source": [
    "__2.__ Определитель матрицы $A$ равен $4$. Найти:\n",
    "\n",
    "   а) $det(A^{2})$;\n",
    "    \n",
    "   б) $det(A^{T})$;\n",
    "    \n",
    "   в) $det(2A)$.  \n",
    "   \n",
    "---"
   ]
  },
  {
   "cell_type": "markdown",
   "id": "bored-sleeve",
   "metadata": {},
   "source": [
    "a) Используем следующее свойство определителя:  \n",
    "\n",
    "**Для двух квадратных матриц одинакового размера**  \n",
    "\n",
    "$det(AB)=detA\\cdot detB$.  \n",
    "\n",
    "Следовательно:  \n",
    "\n",
    "$det(A^2)=det(A\\cdot A)=det(A)\\cdot det(A)=4\\cdot 4=16$  \n",
    "\n",
    "---"
   ]
  },
  {
   "cell_type": "markdown",
   "id": "sharing-above",
   "metadata": {},
   "source": [
    "б) Используем следующее свойство определителя:  \n",
    "\n",
    "**Определитель транспонированной матрицы равен определителю исходной:**  \n",
    "\n",
    "$detA^{T}=detA$.  \n",
    "\n",
    "Следовательно:  \n",
    "\n",
    "$det(A^T)=4$  \n",
    "\n",
    "---"
   ]
  },
  {
   "cell_type": "markdown",
   "id": "aware-domain",
   "metadata": {},
   "source": [
    "в) Из свойства определителя:  \n",
    "\n",
    "**Умножение строки или столбца матрицы на число  𝜆  приведет к умножению определителя матрицы на то же число.**  \n",
    "\n",
    "Следует, что $det(2A)=2^{n}\\cdot det(A)=2^{n}\\cdot 4$, где $n$ - порядок матрицы $A$.  \n",
    "\n",
    "*Пояснение: если поочередно умножать каждую строку матрицы $n\\times n$, определитель которой равен $a$ на некоторое число $\\lambda$, то определитель каждой матрицы, полученной в результате такого умножения будет превышать определитель предыдущей матрицы в $\\lambda$ раз. Поскольку нам потребуется $n$ таких операций построчного умножения, то определитель последней матрицы будет превышать определитель начальной матрицы в $\\lambda^n$ раз.*  "
   ]
  },
  {
   "cell_type": "markdown",
   "id": "happy-liberty",
   "metadata": {},
   "source": [
    "__3.__  Доказать, что матрица\n",
    "\n",
    "$\\begin{pmatrix}\n",
    "-2 & 7 & -3\\\\ \n",
    "4 & -14 & 6\\\\ \n",
    "-3 & 7 & 13\n",
    "\\end{pmatrix}$\n",
    "   \n",
    "вырожденная."
   ]
  },
  {
   "cell_type": "markdown",
   "id": "coated-immunology",
   "metadata": {},
   "source": [
    "Поскольку мы можем представить вторую строку данной матрицы $(4, -14, 6)$ через первую её строку $(-2, 7, -3)$ как  \n",
    "\n",
    "$(4, -14, 6)=-2\\cdot (-2, 7, -3)$, т.е. две строки (столбца) матрицы линейно зависимы, а значит её определитель равен $0$, т.е.  \n",
    "\n",
    "такая матрица, согласно определению, является **вырожденной**.  \n",
    "\n",
    "Проверим:  "
   ]
  },
  {
   "cell_type": "code",
   "execution_count": 25,
   "id": "sunrise-benefit",
   "metadata": {},
   "outputs": [
    {
     "data": {
      "text/plain": [
       "0.0"
      ]
     },
     "execution_count": 25,
     "metadata": {},
     "output_type": "execute_result"
    }
   ],
   "source": [
    "arr=np.array([[-2,7,-3],[4,-14,6],[-3,7,13]])\n",
    "np.linalg.det(arr)"
   ]
  },
  {
   "cell_type": "markdown",
   "id": "resident-warehouse",
   "metadata": {},
   "source": [
    "__4.__ Найти ранг матрицы:\n",
    "\n",
    "   а) $\\begin{pmatrix}\n",
    "1 & 2 & 3\\\\ \n",
    "1 & 1 & 1\\\\ \n",
    "2 & 3 & 4\n",
    "\\end{pmatrix}$;\n",
    "\n",
    "   б) $\\begin{pmatrix}\n",
    "0 & 0 & 2 & 1\\\\ \n",
    "0 & 0 & 2 & 2\\\\ \n",
    "0 & 0 & 4 & 3\\\\ \n",
    "2 & 3 & 5 & 6\n",
    "\\end{pmatrix}$."
   ]
  },
  {
   "cell_type": "markdown",
   "id": "federal-challenge",
   "metadata": {},
   "source": [
    "---\n",
    "a)  \n",
    "\n",
    "$\\begin{pmatrix}\n",
    "1 & 2 & 3\\\\ \n",
    "1 & 1 & 1\\\\ \n",
    "2 & 3 & 4\n",
    "\\end{pmatrix}$\n",
    "\n",
    "Третья строка является суммой первой и второй строк, а значит, ее можно отбросить:  \n",
    "\n",
    "$\\begin{pmatrix}\n",
    "1 & 2 & 3\\\\ \n",
    "1 & 1 & 1\n",
    "\\end{pmatrix}$  \n",
    "\n",
    "Из первой строки вычтем вторуюб и поменяем строки местами:  \n",
    "\n",
    "$\\begin{pmatrix}\n",
    "1 & 1 & 1\\\\ \n",
    "0 & 1 & 2\n",
    "\\end{pmatrix}$  \n",
    "\n",
    "Ранг матрицы равен $2$  \n",
    "\n",
    "Проверим:  "
   ]
  },
  {
   "cell_type": "code",
   "execution_count": 27,
   "id": "rational-demand",
   "metadata": {},
   "outputs": [
    {
     "data": {
      "text/plain": [
       "2"
      ]
     },
     "execution_count": 27,
     "metadata": {},
     "output_type": "execute_result"
    }
   ],
   "source": [
    "arr=([[1,2,3],[1,1,1],[2,3,4]])\n",
    "np.linalg.matrix_rank(arr)"
   ]
  },
  {
   "cell_type": "markdown",
   "id": "assumed-demand",
   "metadata": {},
   "source": [
    "---  \n",
    "б)  \n",
    "\n",
    "$\\begin{pmatrix}\n",
    "0 & 0 & 2 & 1\\\\ \n",
    "0 & 0 & 2 & 2\\\\ \n",
    "0 & 0 & 4 & 3\\\\ \n",
    "2 & 3 & 5 & 6\n",
    "\\end{pmatrix}$  \n",
    "\n",
    "Третья строка является суммой первой и второй строки, отбрасываем:  \n",
    "\n",
    "$\\begin{pmatrix}\n",
    "0 & 0 & 2 & 1\\\\ \n",
    "0 & 0 & 2 & 2\\\\ \n",
    "2 & 3 & 5 & 6\n",
    "\\end{pmatrix}$  \n",
    "\n",
    "Вычтем вторую строку из первой:  \n",
    "\n",
    "$\\begin{pmatrix}\n",
    "0 & 0 & 0 & -1\\\\ \n",
    "0 & 0 & 2 & 2\\\\ \n",
    "2 & 3 & 5 & 6\n",
    "\\end{pmatrix}$  \n",
    "\n",
    "Удалим второй столбец, который можно выразить через первый: \n",
    "\n",
    "$\\begin{pmatrix}\n",
    "0 & 0 & -1\\\\ \n",
    "0 & 2 & 2\\\\ \n",
    "2 & 5 & 6\n",
    "\\end{pmatrix}$  \n",
    "\n",
    "Поменяем местами первую и третью строки:  \n",
    "\n",
    "$\\begin{pmatrix}\n",
    "2 & 5 & 6\\\\ \n",
    "0 & 2 & 2\\\\ \n",
    "0 & 0 & -1\n",
    "\\end{pmatrix}$  \n",
    "\n",
    "Ранг матрицы равен $3$  \n",
    "\n",
    "Проверим:"
   ]
  },
  {
   "cell_type": "code",
   "execution_count": 29,
   "id": "incoming-skirt",
   "metadata": {},
   "outputs": [
    {
     "data": {
      "text/plain": [
       "3"
      ]
     },
     "execution_count": 29,
     "metadata": {},
     "output_type": "execute_result"
    }
   ],
   "source": [
    "arr=([[0,0,2,1],[0,0,2,2],[0,0,4,3],[2,3,5,6]])\n",
    "np.linalg.matrix_rank(arr)"
   ]
  }
 ],
 "metadata": {
  "kernelspec": {
   "display_name": "Python 3",
   "language": "python",
   "name": "python3"
  },
  "language_info": {
   "codemirror_mode": {
    "name": "ipython",
    "version": 3
   },
   "file_extension": ".py",
   "mimetype": "text/x-python",
   "name": "python",
   "nbconvert_exporter": "python",
   "pygments_lexer": "ipython3",
   "version": "3.8.5"
  }
 },
 "nbformat": 4,
 "nbformat_minor": 5
}
